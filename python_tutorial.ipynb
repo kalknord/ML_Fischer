{
 "cells": [
  {
   "cell_type": "markdown",
   "metadata": {},
   "source": [
    "# Python Tutorial für absolute Beginner\n",
    "**05.02.2025**\n",
    "## Prof. Dr. Sebastian Fischer"
   ]
  },
  {
   "cell_type": "markdown",
   "metadata": {},
   "source": [
    "## 1. Einführung in Google Colab <a id=\"einführung-in-google-colab\"></a>\n",
    "\n",
    "In Google Colab kannst Du Python-Code direkt im Browser schreiben und ausführen – ganz ohne lokale Installation. So kannst Du sofort mit dem Programmieren starten!\n",
    "\n",
    "**Wichtige Hinweise:**  \n",
    "- **Codezellen ausführen:** Klicke in eine Zelle und drücke `Shift + Enter`, um den Code auszuführen.  \n",
    "- **Neue Zellen erstellen:** Gehe ins Menü auf **„Einfügen“** > **„Codezelle“** oder **„Textzelle“**.  \n",
    "- **Neu starten:** Über **„Laufzeit“** kannst Du die Verbindung neu starten, falls es nötig ist.\n",
    "\n",
    "Probiere zunächst das folgende einfache „Hello World“-Beispiel aus:"
   ]
  },
  {
   "cell_type": "code",
   "execution_count": null,
   "metadata": {},
   "outputs": [],
   "source": [
    "# Dieses einfache Programm gibt \"Hello, World!\" im Ausgabefenster aus.\n",
    "print(\"Hello, World!\")  # Drucke den Begrüßungstext"
   ]
  },
  {
   "cell_type": "markdown",
   "metadata": {},
   "source": [
    "## 2. Grundlagen der Programmiersprache Python <a id=\"grundlagen-der-programmiersprache-python\"></a>\n",
    "\n",
    "Hier lernst Du die wichtigsten Konzepte von Python kennen. Jeder Code-Abschnitt ist ausführlich kommentiert, damit Du genau verstehst, was passiert.\n",
    "\n",
    "### 2.1 Variablen und Datentypen <a id=\"variablen-und-datentypen\"></a>\n",
    "\n",
    "Mit Variablen speicherst Du Daten. Unterschiedliche Datentypen (wie Zahlen und Texte) werden in Python sehr einfach verwendet.\n",
    "\n"
   ]
  },
  {
   "cell_type": "code",
   "execution_count": null,
   "metadata": {},
   "outputs": [],
   "source": [
    "\n",
    "# Variablenzuweisung in Python\n",
    "\n",
    "# Eine Ganzzahl (Integer) speichern\n",
    "zahl = 10  # Hier wird die Zahl 10 in der Variablen 'zahl' gespeichert\n",
    "\n",
    "# Einen Text (String) speichern\n",
    "text = \"Hallo, Python!\"  # Speicherung eines Begrüßungstextes in der Variablen 'text'\n",
    "\n",
    "# Ausgabe der Variableninhalte zur Kontrolle\n",
    "print(\"Die Zahl ist:\", zahl)      # Gibt den Inhalt der Variable 'zahl' aus\n",
    "print(\"Der Text lautet:\", text)    # Gibt den Inhalt der Variable 'text' aus"
   ]
  },
  {
   "cell_type": "markdown",
   "metadata": {},
   "source": [
    "### 2.2 Kontrollstrukturen <a id=\"kontrollstrukturen\"></a>\n",
    "\n",
    "Mit Kontrollstrukturen wie bedingten Anweisungen und Schleifen steuerst Du den Ablauf Deines Programms.\n"
   ]
  },
  {
   "cell_type": "markdown",
   "metadata": {},
   "source": [
    "#### If-Else-Anweisung"
   ]
  },
  {
   "cell_type": "code",
   "execution_count": null,
   "metadata": {},
   "outputs": [],
   "source": [
    "# Dieses Beispiel zeigt, wie man mit 'if' und 'else' eine Entscheidung trifft.\n",
    "\n",
    "# Überprüfen, ob die Variable 'zahl' größer als 5 ist\n",
    "if zahl > 5:\n",
    "    # Dieser Block wird ausgeführt, wenn die Bedingung erfüllt ist.\n",
    "    print(\"Die Zahl ist größer als 5!\")\n",
    "else:\n",
    "    # Dieser Block wird ausgeführt, wenn die Bedingung nicht erfüllt ist.\n",
    "    print(\"Die Zahl ist nicht größer als 5.\")"
   ]
  },
  {
   "cell_type": "markdown",
   "metadata": {},
   "source": [
    "#### Schleifen (Loops)\n"
   ]
  },
  {
   "cell_type": "code",
   "execution_count": null,
   "metadata": {},
   "outputs": [],
   "source": [
    "# For-Schleife: Durchläuft jedes Element einer Liste\n",
    "\n",
    "# Erstelle eine Liste von Zahlen\n",
    "zahlen_liste = [1, 2, 3, 4, 5]\n",
    "\n",
    "# Für jedes Element in der Liste, drucke den aktuellen Wert\n",
    "for zahl in zahlen_liste:\n",
    "    print(\"Aktuelle Zahl in der Schleife:\", zahl)\n",
    "\n",
    "# While-Schleife: Wiederhole einen Vorgang, solange eine Bedingung erfüllt ist\n",
    "\n",
    "# Setze einen Zähler auf 0\n",
    "zaehler = 0\n",
    "\n",
    "# Solange der Zähler kleiner als 5 ist, führe diesen Block aus\n",
    "while zaehler < 5:\n",
    "    print(\"Zählerwert:\", zaehler)\n",
    "    zaehler += 1  # Erhöhe den Zähler um 1 bei jedem Durchlauf"
   ]
  },
  {
   "cell_type": "markdown",
   "metadata": {},
   "source": [
    "### 2.3 Funktionen <a id=\"funktionen\"></a>\n",
    "\n",
    "Funktionen ermöglichen es Dir, wiederverwendbaren Code zu definieren, der bestimmte Aufgaben übernimmt.\n",
    "\n"
   ]
  },
  {
   "cell_type": "code",
   "execution_count": null,
   "metadata": {},
   "outputs": [],
   "source": [
    "# Definition einer Funktion, die zwei Zahlen addiert\n",
    "\n",
    "def addiere_zahlen(a, b):\n",
    "    \"\"\"\n",
    "    Diese Funktion addiert zwei Zahlen und gibt das Ergebnis zurück.\n",
    "\n",
    "    Parameter:\n",
    "        a (int/float): Die erste Zahl\n",
    "        b (int/float): Die zweite Zahl\n",
    "\n",
    "    Rückgabe:\n",
    "        int/float: Die Summe der beiden Zahlen\n",
    "    \"\"\"\n",
    "    return a + b  # Berechne und gebe die Summe zurück\n",
    "\n",
    "# Aufruf der Funktion mit Beispielwerten\n",
    "ergebnis = addiere_zahlen(5, 3)\n",
    "print(\"Das Ergebnis der Addition ist:\", ergebnis)"
   ]
  },
  {
   "cell_type": "markdown",
   "metadata": {},
   "source": [
    "### 2.4 Listen <a id=\"listen\"></a>\n",
    "\n",
    "Listen sind geordnete Sammlungen von Werten, die auch unterschiedliche Datentypen enthalten können. Du kannst auf Elemente per Index zugreifen, sie hinzufügen oder ändern.\n"
   ]
  },
  {
   "cell_type": "code",
   "execution_count": null,
   "metadata": {},
   "outputs": [],
   "source": [
    "# Erstellen einer Liste mit einigen Zahlen\n",
    "zahlen_liste = [10, 20, 30, 40, 50]\n",
    "print(\"Die ursprüngliche Liste:\", zahlen_liste)\n",
    "\n",
    "# Hinzufügen eines neuen Elements am Ende der Liste\n",
    "zahlen_liste.append(60)  # fügt die Zahl 60 hinzu\n",
    "print(\"Nach append() wird die Liste:\", zahlen_liste)\n",
    "\n",
    "# Zugriff auf ein Element mittels Index (Index beginnt bei 0)\n",
    "erstes_element = zahlen_liste[0]\n",
    "print(\"Das erste Element der Liste ist:\", erstes_element)\n",
    "\n",
    "# Iterieren über die Liste mittels einer for-Schleife\n",
    "for zahl in zahlen_liste:\n",
    "    print(\"Aktuelles Listenelement:\", zahl)"
   ]
  },
  {
   "cell_type": "markdown",
   "metadata": {},
   "source": [
    "### 2.5 Sets <a id=\"sets\"></a>\n",
    "\n",
    "Sets sind Sammlungen von einzigartigen Elementen. Sie sind ungeordnet, weshalb Du nicht anhand eines Index auf Elemente zugreifen kannst.\n",
    "\n"
   ]
  },
  {
   "cell_type": "code",
   "execution_count": null,
   "metadata": {},
   "outputs": [],
   "source": [
    "# Erstellung eines Sets mit einigen Zahlen. Doppelte Werte werden automatisch entfernt.\n",
    "zahlen_set = {10, 20, 30, 30, 40}\n",
    "print(\"Das Set (Doppelte werden entfernt):\", zahlen_set)\n",
    "\n",
    "# Hinzufügen eines neuen Elements zum Set\n",
    "zahlen_set.add(50)\n",
    "print(\"Nach add() enthält das Set:\", zahlen_set)\n",
    "\n",
    "# Entfernen eines Elements aus dem Set\n",
    "zahlen_set.remove(20)  # Entfernt die Zahl 20\n",
    "print(\"Nach remove() enthält das Set:\", zahlen_set)\n",
    "\n",
    "# Set-Operation: Vereinigungsmenge (Union) mit einem weiteren Set\n",
    "weiteres_set = {40, 50, 60}\n",
    "vereinigung = zahlen_set.union(weiteres_set)\n",
    "print(\"Die Vereinigungsmenge der beiden Sets:\", vereinigung)"
   ]
  },
  {
   "cell_type": "markdown",
   "metadata": {},
   "source": [
    "### 2.6 Dictionaries <a id=\"dictionaries\"></a>\n",
    "\n",
    "Dictionaries speichern Daten als Schlüssel-Wert-Paare. Du kannst auf einen Wert zugreifen, indem Du seinen Schlüssel verwendest.\n",
    "\n"
   ]
  },
  {
   "cell_type": "code",
   "execution_count": null,
   "metadata": {},
   "outputs": [],
   "source": [
    "# Erstellen eines Dictionaries, das Informationen über eine Person speichert\n",
    "person = {\n",
    "    \"Name\": \"Anna\",\n",
    "    \"Alter\": 25,\n",
    "    \"Studiengang\": \"Wirtschaftsinformatik\"\n",
    "}\n",
    "print(\"Das Dictionary zur Person:\", person)\n",
    "\n",
    "# Zugriff auf einen Wert über seinen Schlüssel\n",
    "print(\"Name der Person:\", person[\"Name\"])\n",
    "\n",
    "# Hinzufügen eines neuen Schlüssels mitsamt Wert\n",
    "person[\"Hobbies\"] = [\"Lesen\", \"Schwimmen\", \"Reisen\"]\n",
    "print(\"Nach Ergänzung des Dictionaries:\", person)\n",
    "\n",
    "# Iterieren über ein Dictionary (Schlüssel und Werte ausgeben)\n",
    "for schluessel, wert in person.items():\n",
    "    print(\"Schlüssel:\", schluessel, \"| Wert:\", wert)"
   ]
  },
  {
   "cell_type": "markdown",
   "metadata": {},
   "source": [
    "## 3. Einführung in Pandas <a id=\"einführung-in-pandas\"></a>\n",
    "\n",
    "Pandas ist eine leistungsfähige Bibliothek zur Datenmanipulation und -analyse. Mit ihr kannst Du komplexe Datensätze bequem verarbeiten.\n",
    "\n",
    "### Beispiel: Erstellung und Anzeige eines DataFrames\n",
    "\n"
   ]
  },
  {
   "cell_type": "code",
   "execution_count": null,
   "metadata": {},
   "outputs": [],
   "source": [
    "# Importiere die Pandas-Bibliothek\n",
    "import pandas as pd  # 'pd' ist ein gängiger Alias für pandas\n",
    "\n",
    "# Erstelle einen DataFrame mit Beispieldaten\n",
    "daten = {\n",
    "    \"Name\": [\"Anna\", \"Bernd\", \"Clara\"],  # Liste der Namen\n",
    "    \"Alter\": [23, 35, 29]                 # Alter der entsprechenden Personen\n",
    "}\n",
    "\n",
    "df = pd.DataFrame(daten)  # Erstelle den DataFrame aus dem Dictionary 'daten'\n",
    "\n",
    "# Zeige den Inhalt des DataFrames an\n",
    "print(df)"
   ]
  },
  {
   "cell_type": "markdown",
   "metadata": {},
   "source": [
    "## 4. Einführung in NumPy <a id=\"einführung-in-numpy\"></a>\n",
    "\n",
    "NumPy ist eine Bibliothek, die Dir hilft, numerische Berechnungen zu machen und effizient mit Arrays zu arbeiten.\n",
    "\n",
    "### Beispiel: Erstellung eines Arrays und einfache Operationen\n",
    "\n"
   ]
  },
  {
   "cell_type": "code",
   "execution_count": null,
   "metadata": {},
   "outputs": [],
   "source": [
    "# Importiere die NumPy-Bibliothek\n",
    "import numpy as np  # 'np' ist der standardmäßige Alias für NumPy\n",
    "\n",
    "# Erstelle ein NumPy-Array mit einigen Zahlen\n",
    "array = np.array([1, 2, 3, 4, 5])\n",
    "\n",
    "# Zeige das erstellte Array an\n",
    "print(\"Das erstellte Array:\", array)\n",
    "\n",
    "# Führe eine elementweise Operation durch:\n",
    "# Multipliziere jedes Element im Array mit 2\n",
    "array_multipliziert = array * 2\n",
    "print(\"Nach Multiplikation mit 2:\", array_multipliziert)\n",
    "\n",
    "# Greife auf einen bestimmten Wert im Array zu:\n",
    "# Hier extrahieren wir das dritte Element (Index 2, da die Zählung bei 0 beginnt)\n",
    "drittes_element = array[2]\n",
    "print(\"Das dritte Element im Array ist:\", drittes_element)"
   ]
  },
  {
   "cell_type": "markdown",
   "metadata": {},
   "source": [
    "## 5. Datenvisualisierung <a id=\"datenvisualisierung\"></a>\n",
    "\n",
    "Datenvisualisierung hilft Dir, Muster und Trends in Deinen Daten zu erkennen. Mithilfe von Bibliotheken wie **matplotlib** und **Seaborn** lassen sich Daten anschaulich darstellen.\n",
    "\n",
    "### Beispiel: Histogramm einer Zufallsverteilung"
   ]
  },
  {
   "cell_type": "code",
   "execution_count": null,
   "metadata": {},
   "outputs": [],
   "source": [
    "# Importiere die Bibliotheken für die Visualisierung\n",
    "import matplotlib.pyplot as plt\n",
    "import seaborn as sns\n",
    "import numpy as np\n",
    "\n",
    "# Erzeuge eine Zufallsverteilung mit 1000 Werten\n",
    "daten = np.random.randn(1000)\n",
    "\n",
    "# Erstelle ein Histogramm\n",
    "plt.figure(figsize=(8, 4))              # Erstelle eine Grafik mit einer festen Größe\n",
    "sns.histplot(daten, bins=30, kde=True)    # Zeichne das Histogramm mit 30 Balken und einer Dichtekurve\n",
    "plt.title(\"Histogramm einer Zufallsverteilung\")  # Titel der Grafik\n",
    "plt.xlabel(\"Werte\")                      # Beschriftung der x-Achse\n",
    "plt.ylabel(\"Häufigkeit\")                 # Beschriftung der y-Achse\n",
    "plt.show()                              # Zeige die Grafik an"
   ]
  },
  {
   "cell_type": "markdown",
   "metadata": {},
   "source": [
    "## 6. Abschluss und Tipps <a id=\"abschluss-und-tipps\"></a>\n",
    "\n",
    "**Herzlichen Glückwunsch!** Du hast nun die grundlegenden Konzepte von Google Colab, Python sowie die wichtigen Bibliotheken Pandas, NumPy und die Datenvisualisierung kennengelernt. Hier noch ein paar abschließende Tipps:\n",
    "\n",
    "- **Experimentiere:** Probiere Variationen der Beispiele aus und passe den Code an, um ein tieferes Verständnis zu erlangen.  \n",
    "- **Genau lesen:** Schau Dir den kommentierten Code genau an – so verstehst Du, wie jedes Detail funktioniert.  \n",
    "- **Regelmäßig üben:** Übung macht den Meister! Versuche, eigene kleine Projekte zu starten.  \n",
    "- **Fragen stellen:** Scheue Dich nicht, Kommiliton:innen, Dozent:innen oder Online-Communities um Hilfe zu bitten.\n",
    "\n"
   ]
  },
  {
   "cell_type": "markdown",
   "metadata": {},
   "source": [
    "## 7. Praktische Übungen: Wiederholung und Anwendung <a id=\"praktische-übungen\"></a>\n",
    "\n",
    "Hier findest Du einige Aufgaben, mit denen Du die vorgestellten Konzepte praktisch üben und selbst ausprobieren kannst. Versuche, die Aufgaben zunächst eigenständig zu lösen. Mit diesen praktischen Übungen solltest Du ein sicheres Gefühl im Umgang mit den grundlegenden Python-Konzepten sowie der Datenvisualisierung entwickeln. Viel Spaß beim Ausprobieren und Entdecken – Python ist wirklich relativ einfach zu lernen, wenn Du Schritt für Schritt vorgehst!\n",
    "\n",
    "### Aufgabe 1: Variablen, Datentypen und Rechenoperationen\n",
    "- **Aufgabe:**  \n",
    "  Erstelle zwei Variablen, die unterschiedliche Zahlen enthalten, addiere diese und speichere das Ergebnis in einer dritten Variable. Gib alle drei Variablen aus.\n",
    "\n"
   ]
  },
  {
   "cell_type": "code",
   "execution_count": null,
   "metadata": {},
   "outputs": [],
   "source": []
  },
  {
   "cell_type": "markdown",
   "metadata": {},
   "source": [
    "### Aufgabe 2: Arbeiten mit Listen und Schleifen\n",
    "- **Aufgabe:**  \n",
    "  Erstelle eine Liste von mindestens 5 Zahlen. Verwende eine for-Schleife, um jedes Element zu quadrieren, und speichere die Ergebnisse in einer neuen Liste. Gib beide Listen aus.\n",
    "\n"
   ]
  },
  {
   "cell_type": "code",
   "execution_count": null,
   "metadata": {},
   "outputs": [],
   "source": []
  },
  {
   "cell_type": "markdown",
   "metadata": {},
   "source": [
    "### Aufgabe 3: Sets – Einzigartigkeit üben\n",
    "- **Aufgabe:**  \n",
    "  Erstelle eine Liste, die einige doppelte Werte enthält. Wandle diese Liste in ein Set um, um die doppelten Einträge zu entfernen, und gib das Ergebnis aus.\n",
    "\n"
   ]
  },
  {
   "cell_type": "code",
   "execution_count": null,
   "metadata": {},
   "outputs": [],
   "source": []
  },
  {
   "cell_type": "markdown",
   "metadata": {},
   "source": [
    "### Aufgabe 4: Dictionaries – Datenabfrage\n",
    "- **Aufgabe:**  \n",
    "  Erstelle ein Dictionary, in dem Du drei Kommiliton:innen sowie deren Lieblingsfarben speicherst. Lasse den Benutzer oder die Benutzerin (mittels `input()`) einen Namen eingeben und gib die zugehörige Lieblingsfarbe aus. Falls der eingegebene Name nicht im Dictionary vorhanden ist, gib eine entsprechende Meldung aus.\n"
   ]
  },
  {
   "cell_type": "code",
   "execution_count": null,
   "metadata": {},
   "outputs": [],
   "source": []
  },
  {
   "cell_type": "markdown",
   "metadata": {},
   "source": [
    "### Aufgabe 5: Datenvisualisierung – Scatterplot erstellen\n",
    "- **Aufgabe:**  \n",
    "  Erstelle mit Hilfe von **matplotlib** und **NumPy** zwei Arrays.  \n",
    "  - Erstelle ein Array `x` mit Werten von 0 bis 50.  \n",
    "  - Erstelle ein Array `y`, das aus den `x`-Werten plus zufälligem Rauschen besteht (z. B. `x` + normalverteilte Werte).  \n",
    "  - Zeichne einen Scatterplot, in dem `x` auf der x-Achse und `y` auf der y-Achse dargestellt werden.\n",
    "\n"
   ]
  },
  {
   "cell_type": "code",
   "execution_count": null,
   "metadata": {},
   "outputs": [],
   "source": []
  }
 ],
 "metadata": {
  "language_info": {
   "name": "python"
  }
 },
 "nbformat": 4,
 "nbformat_minor": 2
}
